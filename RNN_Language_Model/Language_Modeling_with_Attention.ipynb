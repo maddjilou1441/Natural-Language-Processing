{
 "cells": [
  {
   "cell_type": "markdown",
   "metadata": {
    "colab_type": "text",
    "id": "IxZ97MQPbj90"
   },
   "source": [
    "# Feed-forward and Recurrent Language Models"
   ]
  },
  {
   "cell_type": "markdown",
   "metadata": {},
   "source": [
    "### Preliminaries"
   ]
  },
  {
   "cell_type": "code",
   "execution_count": 1,
   "metadata": {},
   "outputs": [
    {
     "name": "stdout",
     "output_type": "stream",
     "text": [
      "Populating the interactive namespace from numpy and matplotlib\n"
     ]
    }
   ],
   "source": [
    "%pylab inline\n",
    "%load_ext autoreload\n",
    "%autoreload 2"
   ]
  },
  {
   "cell_type": "code",
   "execution_count": 2,
   "metadata": {},
   "outputs": [
    {
     "name": "stdout",
     "output_type": "stream",
     "text": [
      "Requirement already satisfied: jsonlines in /home/aimsgh/.local/lib/python3.7/site-packages (1.2.0)\n",
      "Requirement already satisfied: tqdm in /home/aimsgh/.local/lib/python3.7/site-packages (4.43.0)\n",
      "Requirement already satisfied: six in /home/aimsgh/anaconda3/lib/python3.7/site-packages (from jsonlines) (1.12.0)\n"
     ]
    }
   ],
   "source": [
    "!pip install jsonlines tqdm"
   ]
  },
  {
   "cell_type": "code",
   "execution_count": 3,
   "metadata": {
    "colab": {
     "base_uri": "https://localhost:8080/",
     "height": 1000
    },
    "colab_type": "code",
    "id": "RSqJllXkKGZR",
    "outputId": "e3ec5aa0-bbf9-4851-aad1-6c1ab1fdf4f1"
   },
   "outputs": [],
   "source": [
    "# download pretrained models and data\n",
    "### DOWNLOADING THE FILES\n",
    "import os\n",
    "\n",
    "### persona chat dataset\n",
    "if not os.path.exists('personachat_all_sentences_train.jsonl'):\n",
    "    !wget \"https://nyu.box.com/shared/static/q4nvswb0szelivhgyx87vd1056ttqfyi.jsonl\" -O 'personachat_all_sentences_train.jsonl'\n",
    "if not os.path.exists('personachat_all_sentences_valid.jsonl'):\n",
    "    !wget \"https://nyu.box.com/shared/static/8krcizo8sms1m0ppy7uiwfcx4a3l5nsq.jsonl\" -O 'personachat_all_sentences_valid.jsonl'\n",
    "if not os.path.exists('personachat_all_sentences_test.jsonl'):\n",
    "    !wget \"https://nyu.box.com/shared/static/im7we9k2gcf8kslqnfamsimicgosuw9y.jsonl\" -O 'personachat_all_sentences_test.jsonl'\n",
    "\n",
    "## wikitext-2 dataset\n",
    "if not os.path.exists('wikitext2-sentencized.json'):\n",
    "    !wget \"https://nyu.box.com/shared/static/9kb7l7ci30hb6uahhbssjlq0kctr5ii4.json\" -O 'wikitext2-sentencized.json'\n",
    "\n",
    "### pretrained ffnn model\n",
    "if not os.path.exists('personachat_ffnn_lm.pt'):\n",
    "    !wget \"https://nyu.box.com/shared/static/looczvct7ssh30x0gwqmvencple8xok9.pt\" -O 'personachat_ffnn_lm.pt'\n",
    "\n",
    "### pretrained rnn model\n",
    "if not os.path.exists('personachat_rnn_lm.pt'):\n",
    "    !wget \"https://nyu.box.com/shared/static/3jl9erctnvbefnczgmetkdil0xwpcxzb.pt\" -O 'personachat_rnn_lm.pt'"
   ]
  },
  {
   "cell_type": "markdown",
   "metadata": {
    "colab_type": "text",
    "id": "G0PkAzAkKHZw"
   },
   "source": [
    "## N-gram modeling as classification\n",
    "\n",
    "In the previous n-gram language models lab, the probability of a word given a history ('prefix') was computed using n-gram **counts**.\n",
    "\n",
    "In this lab, our goal will be the same: modeling the probability of variable length sequences, $$p(x_1,\\ldots,x_T)=\\prod_{t=1}^T p(x_t|x_{<t}),$$\n",
    "\n",
    "by assuming that each word $x_t$ only depends on the preceding $n-1$ words, $$p(x_1,\\ldots,x_T)=\\prod_{t=1}^T p(x_t|x_{t-n+1},\\ldots,x_{t-1}).$$\n",
    "\n",
    "\n",
    "However, _instead of counts_, we will now use a **neural network** to **classify** each history, where each class is the next word.\n",
    "\n",
    "<img src=\"img/fflm.png\" alt=\"Drawing\" style=\"width: 35%;\"/>\n",
    "\n",
    "[Diagram: modified from the [NLP Lecture Note](https://github.com/nyu-dl/NLP_DL_Lecture_Note/blob/master/lecture_note.pdf) by Kyunghyun Cho]"
   ]
  },
  {
   "cell_type": "markdown",
   "metadata": {
    "colab_type": "text",
    "id": "_rHGuy-zbj-R"
   },
   "source": [
    "## Modeling chat utterances\n",
    "\n",
    "We will build a **feed-forward neural n-gram model** to model chat utterances.\n",
    "\n",
    "### 1. Prepare the data\n",
    "\n",
    "To load and preprocess the data, we'll use utility functions from `data.py`."
   ]
  },
  {
   "cell_type": "code",
   "execution_count": 4,
   "metadata": {},
   "outputs": [
    {
     "name": "stdout",
     "output_type": "stream",
     "text": [
      "Requirement already satisfied: jsonlines in /home/aimsgh/.local/lib/python3.7/site-packages (1.2.0)\n",
      "Requirement already satisfied: six in /usr/lib/python3/dist-packages (from jsonlines) (1.12.0)\n"
     ]
    }
   ],
   "source": [
    "!pip3 install jsonlines"
   ]
  },
  {
   "cell_type": "code",
   "execution_count": 5,
   "metadata": {
    "colab": {},
    "colab_type": "code",
    "id": "TsLd-pAlbj-Y"
   },
   "outputs": [],
   "source": [
    "import data as data_utils"
   ]
  },
  {
   "cell_type": "code",
   "execution_count": 6,
   "metadata": {
    "colab": {},
    "colab_type": "code",
    "id": "UYIBNnOwO9wa"
   },
   "outputs": [
    {
     "name": "stderr",
     "output_type": "stream",
     "text": [
      "100%|██████████| 133176/133176 [00:14<00:00, 8927.25it/s]\n",
      "100%|██████████| 16181/16181 [00:02<00:00, 6259.01it/s]\n"
     ]
    }
   ],
   "source": [
    "datasets = data_utils.load_personachat('./')\n",
    "dictionary = data_utils.Dictionary(datasets, include_valid=True)"
   ]
  },
  {
   "cell_type": "code",
   "execution_count": 10,
   "metadata": {},
   "outputs": [
    {
     "data": {
      "text/plain": [
       "dict_keys(['train', 'valid', 'test'])"
      ]
     },
     "execution_count": 10,
     "metadata": {},
     "output_type": "execute_result"
    }
   ],
   "source": [
    "datasets.keys()"
   ]
  },
  {
   "cell_type": "code",
   "execution_count": 11,
   "metadata": {},
   "outputs": [
    {
     "data": {
      "text/plain": [
       "list"
      ]
     },
     "execution_count": 11,
     "metadata": {},
     "output_type": "execute_result"
    }
   ],
   "source": [
    "type(datasets['train'])"
   ]
  },
  {
   "cell_type": "code",
   "execution_count": null,
   "metadata": {},
   "outputs": [],
   "source": []
  },
  {
   "cell_type": "code",
   "execution_count": 12,
   "metadata": {},
   "outputs": [
    {
     "name": "stdout",
     "output_type": "stream",
     "text": [
      "133176\n",
      "16181\n",
      "15608\n"
     ]
    }
   ],
   "source": [
    "print(len(datasets['train']))\n",
    "print(len(datasets['valid']))\n",
    "print(len(datasets['test']))"
   ]
  },
  {
   "cell_type": "code",
   "execution_count": 13,
   "metadata": {},
   "outputs": [],
   "source": [
    "# index0 = 1\n",
    "# encoded = dictionary.encode_token_seq(datasets[split][index0])\n",
    "# encoded\n",
    "# decoded = dictionary.decode_idx_seq(encoded)\n",
    "# decoded"
   ]
  },
  {
   "cell_type": "code",
   "execution_count": 14,
   "metadata": {},
   "outputs": [],
   "source": [
    "# encoded = dictionary.encode_token_seq(datasets[split][index0])\n",
    "# encoded"
   ]
  },
  {
   "cell_type": "code",
   "execution_count": 15,
   "metadata": {},
   "outputs": [
    {
     "data": {
      "text/plain": [
       "133176"
      ]
     },
     "execution_count": 15,
     "metadata": {},
     "output_type": "execute_result"
    }
   ],
   "source": [
    "len(datasets['train'])"
   ]
  },
  {
   "cell_type": "markdown",
   "metadata": {},
   "source": [
    "Let's look at an example from the dataset (note that in addition to `train` we also have `valid`, `test` splits):"
   ]
  },
  {
   "cell_type": "code",
   "execution_count": 16,
   "metadata": {},
   "outputs": [
    {
     "name": "stdout",
     "output_type": "stream",
     "text": [
      "Dataset size 133176 (train), 16181 (valid), 15608 (test).\n",
      "\n",
      "iamdoinggreatexceptfortheallergies.\n",
      "\n",
      " word indices - [4, 5, 6, 7, 8, 9, 10, 11, 12]\n",
      "\n",
      " words - ['i', 'am', 'doing', 'great', 'except', 'for', 'the', 'allergies', '.']\n"
     ]
    }
   ],
   "source": [
    "index = 0\n",
    "split = 'train'\n",
    "encoded = dictionary.encode_token_seq(datasets[split][index])\n",
    "decoded = dictionary.decode_idx_seq(encoded)\n",
    "\n",
    "print(\"Dataset size %d (train), %d (valid), %d (test).\\n\" %\n",
    "     (len(datasets['train']), \n",
    "      len(datasets['valid']), \n",
    "      len(datasets['test'])))\n",
    "print(''.join(datasets[split][index]))\n",
    "print(f'\\n word indices - {encoded}')\n",
    "print(f'\\n words - {decoded}')"
   ]
  },
  {
   "cell_type": "markdown",
   "metadata": {},
   "source": [
    "Now we add `<bos>`, `<eos>`, and turn each **sequence** into **n-grams**:"
   ]
  },
  {
   "cell_type": "code",
   "execution_count": 17,
   "metadata": {},
   "outputs": [
    {
     "name": "stdout",
     "output_type": "stream",
     "text": [
      "[4, 5, 6, 7, 8]\n",
      "\n",
      " 0 - ['<bos>', '<bos>', '<bos>', '<bos>', 'i']\n",
      "\n",
      " 1 - ['<bos>', '<bos>', '<bos>', 'i', 'am']\n",
      "\n",
      " 2 - ['<bos>', '<bos>', 'i', 'am', 'doing']\n",
      "\n",
      " 3 - ['<bos>', 'i', 'am', 'doing', 'great']\n",
      "\n",
      " 4 - ['i', 'am', 'doing', 'great', 'except']\n",
      "\n",
      " 5 - ['am', 'doing', 'great', 'except', 'for']\n",
      "\n",
      " 6 - ['doing', 'great', 'except', 'for', 'the']\n",
      "\n",
      " 7 - ['great', 'except', 'for', 'the', 'allergies']\n",
      "\n",
      " 8 - ['except', 'for', 'the', 'allergies', '.']\n",
      "\n",
      " 9 - ['for', 'the', 'allergies', '.', '<eos>']\n"
     ]
    }
   ],
   "source": [
    "ngram_order = 5\n",
    "tokenized_datasets = data_utils.tokenize_dataset(\n",
    "    datasets, dictionary, ngram_order\n",
    ")\n",
    "ngram_datasets = data_utils.slice_into_ngrams(\n",
    "    tokenized_datasets, ngram_order\n",
    ")\n",
    "print(ngram_datasets[split][4])\n",
    "for i in range(10):\n",
    "    decoded = dictionary.decode_idx_seq(ngram_datasets[split][index+i])\n",
    "    print(f'\\n {i} - {decoded}')"
   ]
  },
  {
   "cell_type": "code",
   "execution_count": 51,
   "metadata": {},
   "outputs": [
    {
     "data": {
      "text/plain": [
       "['if', 'i', 'finished', 'high', 'school']"
      ]
     },
     "execution_count": 51,
     "metadata": {},
     "output_type": "execute_result"
    }
   ],
   "source": [
    "decoded = dictionary.decode_idx_seq(ngram_datasets[split][4])\n",
    "decoded"
   ]
  },
  {
   "cell_type": "markdown",
   "metadata": {},
   "source": [
    "Finally, we create a **Pytorch** `Dataset` and `DataLoader` that can be used for training a neural network."
   ]
  },
  {
   "cell_type": "code",
   "execution_count": 18,
   "metadata": {
    "colab": {
     "base_uri": "https://localhost:8080/",
     "height": 299
    },
    "colab_type": "code",
    "id": "401zpVGvNcmR",
    "outputId": "eec5cc33-1daa-45d4-e457-f13f73e74a05"
   },
   "outputs": [],
   "source": [
    "from torch.utils.data import DataLoader\n",
    "\n",
    "datasets = {}\n",
    "dataloaders = {}\n",
    "for split, dataset in ngram_datasets.items():\n",
    "    dataset_ = data_utils.NgramDataset(dataset)\n",
    "    datasets[split] = dataset_\n",
    "    dataloaders[split] = DataLoader(\n",
    "        dataset_, \n",
    "        batch_size=2048, \n",
    "        shuffle=(split == 'train'), \n",
    "        collate_fn=data_utils.batchify\n",
    "    )"
   ]
  },
  {
   "cell_type": "markdown",
   "metadata": {},
   "source": [
    "### 2. Defining the model\n",
    "\n",
    "\n",
    "#### How do we represent the input $x_t$? \n",
    "\n",
    "Each $x_t$ is an **integer** (token id), and we transform it into a **vector** $f_{\\text{embed}}(x_t)\\in\\mathbb{R}^d$ using an `Embedding` layer."
   ]
  },
  {
   "cell_type": "markdown",
   "metadata": {
    "colab_type": "text",
    "id": "jlUBUtnhbj-f"
   },
   "source": [
    "An embedding layer serves as a differentiable look-up table. Given an integer token id, it returns a vector representation which we call an **embedding**."
   ]
  },
  {
   "cell_type": "code",
   "execution_count": 19,
   "metadata": {
    "colab": {},
    "colab_type": "code",
    "id": "F7wBvXaYbj-g"
   },
   "outputs": [],
   "source": [
    "import torch\n",
    "from torch.nn import Embedding\n",
    "# Embedding??"
   ]
  },
  {
   "cell_type": "code",
   "execution_count": 20,
   "metadata": {
    "colab": {},
    "colab_type": "code",
    "id": "hPUY40tXbj-m"
   },
   "outputs": [],
   "source": [
    "lookup = Embedding(\n",
    "    num_embeddings=len(dictionary), \n",
    "    embedding_dim=16, \n",
    "    padding_idx=dictionary.get_id('<pad>')\n",
    ")"
   ]
  },
  {
   "cell_type": "code",
   "execution_count": 21,
   "metadata": {
    "colab": {
     "base_uri": "https://localhost:8080/",
     "height": 34
    },
    "colab_type": "code",
    "id": "eSDJy98Jbj-o",
    "outputId": "3e1b3726-d1ae-439e-8a2b-432257b52651"
   },
   "outputs": [
    {
     "data": {
      "text/plain": [
       "torch.Size([20089, 16])"
      ]
     },
     "execution_count": 21,
     "metadata": {},
     "output_type": "execute_result"
    }
   ],
   "source": [
    "lookup.weight.size()"
   ]
  },
  {
   "cell_type": "code",
   "execution_count": 22,
   "metadata": {
    "colab": {
     "base_uri": "https://localhost:8080/",
     "height": 51
    },
    "colab_type": "code",
    "id": "3WMCuASKbj-s",
    "outputId": "91c5996e-fd32-4f4b-841d-9ac5c7a8716c"
   },
   "outputs": [
    {
     "name": "stdout",
     "output_type": "stream",
     "text": [
      "token ids: [[179, 373]]\n",
      "tokens embedding size: torch.Size([1, 2, 16])\n",
      "embedding for 'hello' (179):\n"
     ]
    },
    {
     "data": {
      "text/plain": [
       "tensor([-0.4238,  0.8098,  1.2906,  0.4612,  0.3570,  0.3899, -0.7164, -0.6528,\n",
       "         0.6005,  2.9043,  0.5518, -1.5634, -0.0957,  1.5465,  1.2051, -0.1028])"
      ]
     },
     "execution_count": 22,
     "metadata": {},
     "output_type": "execute_result"
    }
   ],
   "source": [
    "input_ = dictionary.encode_token_seq(['hello', 'world'])\n",
    "print(f'token ids: {[input_]}')\n",
    "\n",
    "input_embedded = lookup(torch.tensor([input_], dtype=torch.long))\n",
    "print(f'tokens embedding size: {input_embedded.size()}')\n",
    "\n",
    "print(\"embedding for 'hello' (179):\")\n",
    "input_embedded[0][0].data"
   ]
  },
  {
   "cell_type": "markdown",
   "metadata": {},
   "source": [
    "### Defining the neural network\n",
    "\n",
    "There are three components:\n",
    "1. `Embedding` $$\\large f_{embed}:\\text{vocab}\\rightarrow \\mathbb{R}^d$$\n",
    "2. Hidden layer $$\\large f_{hidden}: \\mathbb{R}^{nd}\\rightarrow \\mathbb{R}^h$$\n",
    "3. Projection $$\\large f_{project}: \\mathbb{R}^{h}\\rightarrow \\mathbb{R}^{|vocab|}$$\n",
    "\n",
    "The conditional distribution is then: $$\\large p(x_t|x_{t-1},\\ldots,x_{t-n-1})=\\text{softmax}(f_{project}(f_{hidden}(f_{embed}(x_{t-1},\\ldots,x_{t-n-1}))).$$\n",
    "\n",
    "\n",
    "We implement the hidden layer and projection with Pytorch `nn.Linear` layers:"
   ]
  },
  {
   "cell_type": "code",
   "execution_count": 30,
   "metadata": {
    "colab": {},
    "colab_type": "code",
    "id": "dvlP70FiOrJ3"
   },
   "outputs": [],
   "source": [
    "import torch\n",
    "import torch.nn as nn\n",
    "\n",
    "class NeuralNgramLM(nn.Module):\n",
    "    def __init__(self, options):\n",
    "        super().__init__()\n",
    "        self.lookup = nn.Embedding(\n",
    "            num_embeddings=options['num_embeddings'], \n",
    "            embedding_dim=options['embedding_dim']\n",
    "        )\n",
    "        self.hidden_layer = nn.Linear(\n",
    "            options['input_size'], \n",
    "            options['hidden_size'], \n",
    "            bias=True\n",
    "        )\n",
    "        self.projection = nn.Linear(\n",
    "            options['hidden_size'], \n",
    "            options['num_embeddings']\n",
    "        )\n",
    "\n",
    "    def forward(self, inp):\n",
    "        embedded = self.lookup(inp)\n",
    "        embedded_timeflat = embedded.view(embedded.size(0), -1)\n",
    "        hidden_out = self.hidden_layer(embedded_timeflat)\n",
    "        hidden_out = torch.tanh(hidden_out)\n",
    "        logits = self.projection(hidden_out)\n",
    "        return logits"
   ]
  },
  {
   "cell_type": "code",
   "execution_count": 31,
   "metadata": {},
   "outputs": [
    {
     "data": {
      "text/plain": [
       "torch.Size([1, 8])"
      ]
     },
     "execution_count": 31,
     "metadata": {},
     "output_type": "execute_result"
    }
   ],
   "source": [
    "v = torch.tensor([[1, 4, 2, 5], [0, 1, 4, 2]])\n",
    "v = v.view(1, -1)\n",
    "v.size()"
   ]
  },
  {
   "cell_type": "markdown",
   "metadata": {},
   "source": [
    "### 3. Train the model\n",
    "\n",
    "#### Initialize the model, criterion (loss), and optimizer"
   ]
  },
  {
   "cell_type": "code",
   "execution_count": 32,
   "metadata": {
    "colab": {},
    "colab_type": "code",
    "id": "VfjWvd6jTDjh"
   },
   "outputs": [],
   "source": [
    "import os\n",
    "import torch\n",
    "import torch.nn as nn\n",
    "import torch.optim as optim\n",
    "\n",
    "load_pretrained = True\n",
    "\n",
    "num_gpus = torch.cuda.device_count()\n",
    "if num_gpus > 0:\n",
    "    current_device = 'cuda'\n",
    "else:\n",
    "    current_device = 'cpu'\n",
    "\n",
    "if load_pretrained:\n",
    "    if not os.path.exists('personachat_ffnn_lm.pt'):\n",
    "        raise EOFError('No model downloaded!')\n",
    "    model_dict = torch.load(\n",
    "        'personachat_ffnn_lm.pt',\n",
    "        map_location=torch.device(current_device)\n",
    "    )\n",
    "    \n",
    "    options = model_dict['options']\n",
    "    model = NeuralNgramLM(options).to(current_device)\n",
    "    model.load_state_dict(\n",
    "        model_dict['model_dict']\n",
    "    )\n",
    "    \n",
    "else:\n",
    "    embedding_size = 256\n",
    "    ngram_order = 4\n",
    "    input_size = embedding_size * ngram_order\n",
    "    hidden_size = 512\n",
    "\n",
    "    options = {\n",
    "        'num_embeddings': len(persona_dict),\n",
    "        'embedding_dim': embedding_size,\n",
    "        'input_size': input_size,\n",
    "        'hidden_size': hidden_size,\n",
    "    }\n",
    "    model = NeuralNgramLM(options).to(current_device)\n",
    "\n",
    "criterion = nn.CrossEntropyLoss(\n",
    "    ignore_index=dictionary.get_id('<pad>'), \n",
    "    reduction='sum'\n",
    ")\n",
    "\n",
    "model_parameters = [p for p in model.parameters() if p.requires_grad]\n",
    "optimizer = optim.SGD(model_parameters, lr=0.01, momentum=0.99)\n",
    "# print(model_parameters)"
   ]
  },
  {
   "cell_type": "markdown",
   "metadata": {},
   "source": [
    "#### Training Loop"
   ]
  },
  {
   "cell_type": "code",
   "execution_count": 40,
   "metadata": {
    "colab": {
     "base_uri": "https://localhost:8080/",
     "height": 309
    },
    "colab_type": "code",
    "id": "dHeMz2Q2ULYQ",
    "outputId": "be100b2c-b6bd-454d-d86b-9080e25977cb"
   },
   "outputs": [],
   "source": [
    "plot_cache = []\n",
    "\n",
    "if not load_pretrained:\n",
    "    for epoch_number in range(10):\n",
    "        avg_loss = -1\n",
    "\n",
    "        # -- Training\n",
    "        model.train()\n",
    "\n",
    "        train_loss_cache = 0\n",
    "        train_non_pad_tokens_cache = 0\n",
    "\n",
    "        # == Iterate through batches from the dataset.\n",
    "        for i, (inp, target) in enumerate(dataloaders['train']):\n",
    "            print(inp, target)\n",
    "            optimizer.zero_grad()\n",
    "            inp = inp.to(current_device)\n",
    "            target = target.to(current_device)\n",
    "\n",
    "            # == Forward pass.\n",
    "            logits = model(inp)\n",
    "\n",
    "            # == Computed (summed) loss.\n",
    "            loss = criterion(logits.view(-1, logits.size(-1)), target.view(-1))\n",
    "            train_loss_cache += loss.item()\n",
    "\n",
    "            # == Compute the number of non `<pad>` tokens in the target.\n",
    "            non_pad_tokens = target.view(-1).ne(dictionary.get_id('<pad>')).sum().item()\n",
    "\n",
    "            # == Normalize the (summed) loss so that it is an average.\n",
    "            loss /= non_pad_tokens  \n",
    "            loss.backward()\n",
    "            optimizer.step()\n",
    "\n",
    "            train_non_pad_tokens_cache += non_pad_tokens\n",
    "            if i % 100 == 0:\n",
    "                avg_loss = train_loss_cache/train_non_pad_tokens_cache\n",
    "                print('Step {} avg train loss = {:.{prec}f}'.format(i, avg_loss, prec=4))\n",
    "\n",
    "        # -- Validation\n",
    "        valid_loss_cache = 0\n",
    "        valid_non_pad_tokens_cache = 0\n",
    "\n",
    "        model.eval()\n",
    "        with torch.no_grad():\n",
    "            non_pad_tokens = 0\n",
    "            for i, (inp, target) in enumerate(dataloaders['valid']):\n",
    "                inp = inp.to(current_device)\n",
    "                target = target.to(current_device)\n",
    "\n",
    "                # == Forward pass and loss\n",
    "                logits = model(inp)\n",
    "                loss = criterion(logits.view(-1, logits.size(-1)), target.view(-1))\n",
    "                print(loss.item())\n",
    "                valid_loss_cache += loss.item()            \n",
    "\n",
    "                # == Normalize the loss\n",
    "                non_pad_tokens = target.view(-1).ne(dictionary.get_id('<pad>')).sum().item()\n",
    "                valid_non_pad_tokens_cache += non_pad_tokens\n",
    "\n",
    "            avg_val_loss = valid_loss_cache / valid_non_pad_tokens_cache\n",
    "            print('Validation loss after {} epoch = {:.{prec}f}'.format(epoch_number, avg_val_loss, prec=4))\n",
    "\n",
    "        plot_cache.append((avg_loss, avg_val_loss))"
   ]
  },
  {
   "cell_type": "code",
   "execution_count": 100,
   "metadata": {},
   "outputs": [
    {
     "name": "stdout",
     "output_type": "stream",
     "text": [
      "tensor([[   0, 2525,   33,  ...,    2,    2,    2],\n",
      "        [   0,   60,   71,  ...,    2,    2,    2],\n",
      "        [   0,  128,    4,  ...,    2,    2,    2],\n",
      "        ...,\n",
      "        [   0,  156,   87,  ...,    2,    2,    2],\n",
      "        [   0,  156,   43,  ...,    2,    2,    2],\n",
      "        [   0,   57,  236,  ...,    2,    2,    2]]) tensor([[2525,   33, 1498,  ...,    2,    2,    2],\n",
      "        [  60,   71,    4,  ...,    2,    2,    2],\n",
      "        [ 128,    4, 1731,  ...,    2,    2,    2],\n",
      "        ...,\n",
      "        [ 156,   87,   12,  ...,    2,    2,    2],\n",
      "        [ 156,   43,    4,  ...,    2,    2,    2],\n",
      "        [  57,  236,   33,  ...,    2,    2,    2]])\n",
      "128\n",
      "128\n"
     ]
    }
   ],
   "source": [
    "for el, d in dataloaders['train']:\n",
    "    print(el, d)\n",
    "    print(len(d))\n",
    "    print(len(el))\n",
    "    break"
   ]
  },
  {
   "cell_type": "code",
   "execution_count": 41,
   "metadata": {
    "colab": {},
    "colab_type": "code",
    "id": "DEjiLvdFmjrg"
   },
   "outputs": [],
   "source": [
    "if load_pretrained:\n",
    "    plot_cache = model_dict['loss_cache']"
   ]
  },
  {
   "cell_type": "code",
   "execution_count": 54,
   "metadata": {
    "colab": {
     "base_uri": "https://localhost:8080/",
     "height": 281
    },
    "colab_type": "code",
    "id": "C0nNouO4Z-TJ",
    "outputId": "1f9b3a4f-b801-4d7a-dc38-70c1baa488f1"
   },
   "outputs": [
    {
     "data": {
      "image/png": "[encoded data removed]",
      "text/plain": [
       "<Figure size 432x288 with 1 Axes>"
      ]
     },
     "metadata": {
      "needs_background": "light"
     },
     "output_type": "display_data"
    }
   ],
   "source": [
    "import matplotlib.pyplot as plt\n",
    "import numpy\n",
    "\n",
    "epochs = numpy.array(list(range(len(plot_cache))))\n",
    "plt.plot(epochs, [i[0] for i in plot_cache], label='Train loss')\n",
    "plt.plot(epochs, [i[1] for i in plot_cache], label='Valid loss')\n",
    "\n",
    "plt.legend()\n",
    "plt.title('Loss curves')\n",
    "plt.show()"
   ]
  },
  {
   "cell_type": "code",
   "execution_count": null,
   "metadata": {},
   "outputs": [],
   "source": []
  },
  {
   "cell_type": "markdown",
   "metadata": {
    "colab_type": "text",
    "id": "UTyb2zZYbj_O"
   },
   "source": [
    "### 4. Evaluate the model\n",
    "\n",
    "#### Recap: Perplexity\n",
    "Recall **perplexity** from the preceding lab:\n",
    "\n",
    "\\begin{align}\n",
    "\\large \\text{ppl}(p, D) &\\large = 2^{-\\frac{1}{N_{total}}\\log_2 p(D)}\n",
    "\\end{align}\n",
    "\n",
    "where $D=\\{(w_1,\\ldots,w_{N_i})_i\\}_{i=1}^M$ is a dataset of $M$ sequences with total length $N_{\\text{total}}=\\sum_{i}N_i$.\n",
    "\n",
    "#### Computing perplexity\n",
    "\n",
    "Our model's loss is the (negative) log probability of every token in the output sequence, which can be used to compute perplexity.\n",
    "\n",
    "We define perplexity using the **base 2** logarithm. By default `torch.log` uses base `e`. \n",
    "\n",
    "To **convert to base 2** we use: `log_2 p = log_e p / log_e 2`."
   ]
  },
  {
   "cell_type": "code",
   "execution_count": 55,
   "metadata": {
    "colab": {
     "base_uri": "https://localhost:8080/",
     "height": 281
    },
    "colab_type": "code",
    "id": "dcuSFVZvbmWR",
    "outputId": "7441ed5d-59fc-44b3-96fb-726cfcec92cc"
   },
   "outputs": [
    {
     "data": {
      "image/png": "[encoded data removed]",
      "text/plain": [
       "<Figure size 432x288 with 1 Axes>"
      ]
     },
     "metadata": {
      "needs_background": "light"
     },
     "output_type": "display_data"
    }
   ],
   "source": [
    "import matplotlib.pyplot as plt\n",
    "import numpy\n",
    "\n",
    "epochs = numpy.array(list(range(len(plot_cache))))\n",
    "plt.plot(epochs, [2**(i[0]/numpy.log(2)) for i in plot_cache], label='Train ppl')\n",
    "plt.plot(epochs, [2**(i[1]/numpy.log(2)) for i in plot_cache], label='Valid ppl')\n",
    "\n",
    "plt.legend()\n",
    "plt.title('PPL curves')\n",
    "plt.show()"
   ]
  },
  {
   "cell_type": "code",
   "execution_count": 56,
   "metadata": {
    "colab": {},
    "colab_type": "code",
    "id": "9t_WHUYcOe_8"
   },
   "outputs": [],
   "source": [
    "# Saving the model\n",
    "if False:\n",
    "    torch.save({\n",
    "        'options': options,\n",
    "        'loss_cache': plot_cache,\n",
    "        'model_dict': model.state_dict()\n",
    "    }, './persona_ffnn_lm.pt')"
   ]
  },
  {
   "cell_type": "markdown",
   "metadata": {},
   "source": [
    "#### Conditional probability queries\n",
    "We can now query the model for conditional probabilities:\n",
    "\n",
    "\\begin{align}\n",
    "\\large p(x_t|x_{t-1},\\ldots,x_{t-4}) \n",
    "\\end{align} "
   ]
  },
  {
   "cell_type": "code",
   "execution_count": 57,
   "metadata": {},
   "outputs": [
    {
     "name": "stdout",
     "output_type": "stream",
     "text": [
      "p( dog  | <bos> i have a )\t= 7.468E-02\n",
      "p( zebra  | <bos> i have a )\t= 1.473E-04\n",
      "p( donut  | <bos> i have a )\t= 7.881E-06\n",
      "p( velociraptor  | <bos> i have a )\t= 1.323E-06\n"
     ]
    }
   ],
   "source": [
    "import torch\n",
    "\n",
    "def next_token_probabilities(prefix, token):\n",
    "    inp = dictionary.encode_token_seq(prefix.split(' '))\n",
    "    with torch.no_grad():\n",
    "        model.eval()\n",
    "        logits = model(\n",
    "            torch.tensor([inp], dtype=torch.long).to(current_device)\n",
    "        )\n",
    "    token_id = dictionary.get_id(token)\n",
    "    p_next_token = torch.softmax(logits, dim=-1)\n",
    "    return p_next_token[0, token_id]\n",
    "\n",
    "prefix = '<bos> i have a'\n",
    "\n",
    "for w in ['dog', 'zebra', 'donut', 'velociraptor']:\n",
    "    prob = next_token_probabilities(prefix, w)\n",
    "    print('p( %s  | %s )\\t= %.3E' % (w, prefix, prob))\n",
    "    "
   ]
  },
  {
   "cell_type": "markdown",
   "metadata": {},
   "source": [
    "\n",
    "\n",
    "And sort by the highest probability next-tokens:\n",
    "\n",
    "$\\large \\texttt{sort}(p(\\cdot|\\underbrace{x_{<t}}_{\\text{prefix}}))$"
   ]
  },
  {
   "cell_type": "code",
   "execution_count": 58,
   "metadata": {
    "colab": {
     "base_uri": "https://localhost:8080/",
     "height": 404
    },
    "colab_type": "code",
    "id": "l4zVv--owi3d",
    "outputId": "2c64752d-d913-4dfa-814d-ba7042982462"
   },
   "outputs": [
    {
     "name": "stdout",
     "output_type": "stream",
     "text": [
      "p( dog  | <bos> i have a )\t= 0.07468\n",
      "p( cat  | <bos> i have a )\t= 0.04418\n",
      "p( lot  | <bos> i have a )\t= 0.04310\n",
      "p( job  | <bos> i have a )\t= 0.03759\n",
      "p( couple  | <bos> i have a )\t= 0.03458\n",
      "p( few  | <bos> i have a )\t= 0.02293\n",
      "p( black  | <bos> i have a )\t= 0.01704\n",
      "p( little  | <bos> i have a )\t= 0.01618\n",
      "p( hard  | <bos> i have a )\t= 0.01604\n",
      "p( very  | <bos> i have a )\t= 0.01478\n"
     ]
    }
   ],
   "source": [
    "def get_top_token_given_prefix(prefix, top=10):\n",
    "    inp = dictionary.encode_token_seq(prefix.split(' '))\n",
    "    with torch.no_grad():\n",
    "        model.eval()\n",
    "        logits = model(\n",
    "            torch.tensor([inp], dtype=torch.long).to(current_device)\n",
    "        )\n",
    "        \n",
    "    p_next_token = torch.softmax(logits, dim=-1)\n",
    "    sorted_probs, sorted_token_ids = torch.topk(p_next_token[0], top)\n",
    "\n",
    "    for i in range(sorted_token_ids.size(0)):\n",
    "        print('p( %s  | %s )\\t= %.5f' % \n",
    "              (dictionary.decode_idx_seq([sorted_token_ids[i]])[0], \n",
    "               prefix, \n",
    "               sorted_probs[i])\n",
    "        )\n",
    "\n",
    "get_top_token_given_prefix('<bos> i have a')  #'<bos> the weather is'  '<bos> <bos> <bos> hello'"
   ]
  },
  {
   "cell_type": "raw",
   "metadata": {},
   "source": []
  },
  {
   "cell_type": "markdown",
   "metadata": {
    "colab_type": "text",
    "id": "Eb9Va-p4bj96"
   },
   "source": [
    "# Recurrent neural network language model\n",
    "Recall that in **language modeling**, we want to model the probability of variable length sequences, $$p(x_1,\\ldots,x_T)=\\prod_{t=1}^T p(x_t|x_{<t}).$$\n",
    "\n",
    "*Unlike n-gram models*, we will now define a model that allows a **full history** $x_{<t}$.\n",
    "\n",
    "To do so, we will use a function called a **recurrent neural network** to compute each distribution $p(x_t|x_{<t})$:\n",
    "\\begin{align}\n",
    "h_t &= f^{\\text{RNN}}_{\\theta}(x_{t-1}, h_{t-1}) & \\mathbb{R}^d\\\\\n",
    "s_t &= Wh_t & \\mathbb{R}^{\\text{|vocab|}}\\\\\n",
    "p_{\\theta}(x_t|x_{<t}) &= \\text{softmax}(s_t) & [0,1]^{\\text{|vocab|}}\n",
    "\\end{align}\n",
    "\n",
    "where $h_t$ is an internal (hidden) state of the model at time step $t$, and $x_t$ is an input at time step $t$.\n",
    "\n",
    "<img src=\"img/rnn.png\" alt=\"Drawing\" style=\"width: 35%; margin-left: 29%; padding: 3em;\"/>"
   ]
  },
  {
   "cell_type": "markdown",
   "metadata": {},
   "source": [
    "\n",
    "In the simplest form used in practice, $f_{\\theta}^{\\text{RNN}}$ is defined as:\n",
    " $$f_{\\theta}^{\\text{RNN}}(x_{t-1}, h_{t-1}) = \\text{tanh}(a_t)\\\\ a_t = b + W \\cdot h_{t-1} + U \\cdot x_{t-1},$$\n",
    " \n",
    "but there are other variants (e.g. [GRU](https://arxiv.org/pdf/1406.1078.pdf), [LSTM](https://www.bioinf.jku.at/publications/older/2604.pdf)).\n",
    "\n",
    "Similar to the n-gram neural network above, the goal at time $t$ is to **predict the next token $x_t$**."
   ]
  },
  {
   "cell_type": "markdown",
   "metadata": {
    "colab_type": "text",
    "id": "DLTwdNF-bj97"
   },
   "source": [
    "### Pytorch implementation: `RNNCell`"
   ]
  },
  {
   "cell_type": "code",
   "execution_count": 59,
   "metadata": {
    "colab": {},
    "colab_type": "code",
    "id": "F1WfgVLybj98"
   },
   "outputs": [],
   "source": [
    "from torch.nn import RNNCell\n",
    "# RNNCell??"
   ]
  },
  {
   "cell_type": "code",
   "execution_count": 60,
   "metadata": {
    "colab": {},
    "colab_type": "code",
    "id": "OseW45d9bj9_"
   },
   "outputs": [],
   "source": [
    "import torch\n",
    "hidden_size = 16\n",
    "embedding_dim = 8\n",
    "\n",
    "rnn_cell = RNNCell(embedding_dim, hidden_size)"
   ]
  },
  {
   "cell_type": "code",
   "execution_count": 61,
   "metadata": {
    "colab": {
     "base_uri": "https://localhost:8080/",
     "height": 104
    },
    "colab_type": "code",
    "id": "UnPEPW5Nbj-B",
    "outputId": "4dbe89a7-989f-4db7-e89e-bd2d0d0fe13d"
   },
   "outputs": [
    {
     "name": "stdout",
     "output_type": "stream",
     "text": [
      "tensor([[0., 0., 0., 0., 0., 0., 0., 0., 0., 0., 0., 0., 0., 0., 0., 0.]])\n",
      "torch.Size([1, 16])\n"
     ]
    }
   ],
   "source": [
    "hidden = torch.zeros(1, hidden_size)\n",
    "print(hidden)\n",
    "print(hidden.size())"
   ]
  },
  {
   "cell_type": "code",
   "execution_count": 62,
   "metadata": {
    "colab": {
     "base_uri": "https://localhost:8080/",
     "height": 884
    },
    "colab_type": "code",
    "id": "9TIjbLsMbj-C",
    "outputId": "a3dd9a6a-fa65-4ff6-b499-d5acc650a94a"
   },
   "outputs": [
    {
     "name": "stdout",
     "output_type": "stream",
     "text": [
      "tensor([[0.7990, 0.1969, 0.1254, 0.0967, 0.1737, 0.4126, 0.7955, 0.2308]])\n",
      "torch.Size([1, 8])\n"
     ]
    }
   ],
   "source": [
    "random_input = torch.rand(1, embedding_dim)\n",
    "print(random_input)\n",
    "print(random_input.size())"
   ]
  },
  {
   "cell_type": "code",
   "execution_count": 63,
   "metadata": {
    "colab": {
     "base_uri": "https://localhost:8080/",
     "height": 121
    },
    "colab_type": "code",
    "id": "1n2k_CEBbj-E",
    "outputId": "3a521311-9bca-404d-8928-958f369c1129"
   },
   "outputs": [
    {
     "name": "stdout",
     "output_type": "stream",
     "text": [
      "tensor([[-0.3721, -0.2110,  0.3166,  0.2471,  0.2802,  0.3446, -0.0021, -0.0230,\n",
      "          0.1108, -0.0037,  0.1704, -0.0903,  0.4219,  0.1646,  0.1016,  0.2701]],\n",
      "       grad_fn=<TanhBackward>)\n",
      "torch.Size([1, 16])\n"
     ]
    }
   ],
   "source": [
    "hidden = rnn_cell(random_input, hidden)\n",
    "print(hidden)\n",
    "print(hidden.size())"
   ]
  },
  {
   "cell_type": "markdown",
   "metadata": {
    "colab_type": "text",
    "id": "L4QaNlS2bj-O"
   },
   "source": [
    "### Pytorch implementation: `RNN`\n",
    "\n",
    "`RNNCell` is a building block of an RNN model. The Pytorch `RNN` model supports multi-layer networks by creating separate `RNNCell`s for every layer. \n",
    "\n",
    "`RNN` can also process a whole sequence of data by iteratively applying `RNNCell`."
   ]
  },
  {
   "cell_type": "code",
   "execution_count": 72,
   "metadata": {
    "colab": {},
    "colab_type": "code",
    "id": "FCvackw4bj-O"
   },
   "outputs": [],
   "source": [
    "from torch.nn import RNNBase, RNN\n",
    "# RNNBase.__init__??\n",
    "# RNN.__init__??"
   ]
  },
  {
   "cell_type": "markdown",
   "metadata": {
    "colab_type": "text",
    "id": "LHqYjtCYbj--"
   },
   "source": [
    "### 1. Define the model"
   ]
  },
  {
   "cell_type": "code",
   "execution_count": 73,
   "metadata": {
    "colab": {},
    "colab_type": "code",
    "id": "IdlUbyiybj_A"
   },
   "outputs": [],
   "source": [
    "import torch.nn as nn\n",
    "\n",
    "class RNNLanguageModel(nn.Module):\n",
    "    def __init__(self, options):\n",
    "        super().__init__()\n",
    "        \n",
    "        self.lookup = nn.Embedding(\n",
    "            num_embeddings=options['num_embeddings'], \n",
    "            embedding_dim=options['embedding_dim'], \n",
    "            padding_idx=options['padding_idx']\n",
    "        )\n",
    "        self.rnn=nn.RNN(\n",
    "            options['input_size'], \n",
    "            options['hidden_size'], \n",
    "            options['num_layers'], \n",
    "            dropout=options['rnn_dropout'], \n",
    "            batch_first=True\n",
    "        )\n",
    "        self.projection = nn.Linear(\n",
    "            options['hidden_size'], \n",
    "            options['num_embeddings']\n",
    "        )\n",
    "        \n",
    "    def forward(self, token_ids):\n",
    "        embeddings = self.lookup(token_ids)\n",
    "        output, hidden = self.rnn(embeddings)\n",
    "        logits = self.projection(output) \n",
    "        return logits"
   ]
  },
  {
   "cell_type": "markdown",
   "metadata": {},
   "source": [
    "### 2. Prepare the data"
   ]
  },
  {
   "cell_type": "markdown",
   "metadata": {},
   "source": [
    "#### Dataset and Dataloader\n",
    "\n",
    "See `data_utils.py` for the implementation. "
   ]
  },
  {
   "cell_type": "code",
   "execution_count": 74,
   "metadata": {},
   "outputs": [
    {
     "name": "stderr",
     "output_type": "stream",
     "text": [
      "100%|██████████| 133176/133176 [00:17<00:00, 7502.98it/s]\n",
      "100%|██████████| 16181/16181 [00:03<00:00, 4667.75it/s]\n"
     ]
    }
   ],
   "source": [
    "datasets_ = data_utils.load_personachat('./')\n",
    "dictionary = data_utils.Dictionary(datasets_, include_valid=True)\n",
    "datasets_ = data_utils.tokenize_dataset(datasets_, dictionary)\n",
    "\n",
    "datasets = {}\n",
    "for split, dataset in datasets_.items():\n",
    "    datasets[split] = data_utils.TensoredDataset(dataset, dictionary.get_id('<pad>'))"
   ]
  },
  {
   "cell_type": "markdown",
   "metadata": {},
   "source": [
    "- The **input** is now a **full sequence**.\n",
    "- The **output** is the **next token** for each position of the input:"
   ]
  },
  {
   "cell_type": "code",
   "execution_count": 75,
   "metadata": {},
   "outputs": [
    {
     "name": "stdout",
     "output_type": "stream",
     "text": [
      "Input: \n",
      "\ttensor([ 0, 17, 48, 49, 50, 35, 51, 52, 53, 12,  4, 54, 55, 50, 35, 56, 12])\n",
      "\t(['<bos>', 'you', 'should', 'go', 'out', 'to', 'dinner', 'with', 'them', '.', 'i', 'love', 'going', 'out', 'to', 'eat', '.'])\n",
      "Output: \n",
      "\ttensor([17, 48, 49, 50, 35, 51, 52, 53, 12,  4, 54, 55, 50, 35, 56, 12,  1])\n",
      "\t(['you', 'should', 'go', 'out', 'to', 'dinner', 'with', 'them', '.', 'i', 'love', 'going', 'out', 'to', 'eat', '.', '<eos>'])\n"
     ]
    }
   ],
   "source": [
    "inp, out = datasets['train'][6]\n",
    "\n",
    "print(\"Input: \\n\\t%s\\n\\t(%s)\" %\n",
    "      (inp.data[0], dictionary.decode_idx_seq(inp.data[0])))\n",
    "\n",
    "print(\"Output: \\n\\t%s\\n\\t(%s)\" %\n",
    "      (out.data[0], dictionary.decode_idx_seq(out.data[0])))"
   ]
  },
  {
   "cell_type": "markdown",
   "metadata": {},
   "source": [
    "#### Pytorch dataloader"
   ]
  },
  {
   "cell_type": "code",
   "execution_count": 76,
   "metadata": {},
   "outputs": [],
   "source": [
    "dataloaders = {}\n",
    "batch_size = 128\n",
    "\n",
    "for split, dataset in datasets.items():\n",
    "    dataloaders[split] = DataLoader(\n",
    "        dataset, \n",
    "        batch_size=batch_size, \n",
    "        shuffle=True, \n",
    "        collate_fn=dataset.pad_collate_fn  # pads the sequences in the batch\n",
    "    )"
   ]
  },
  {
   "cell_type": "markdown",
   "metadata": {},
   "source": [
    "#### Padding to handle variable sequence lengths:"
   ]
  },
  {
   "cell_type": "code",
   "execution_count": 77,
   "metadata": {},
   "outputs": [
    {
     "name": "stdout",
     "output_type": "stream",
     "text": [
      "Batch size torch.Size([128, 22])\n",
      "Batch element 1: \n",
      "\ttensor([   0, 4445,   75, 1159,   35, 1548,  879,   12,  362,   17,    9,  439,\n",
      "          32,  120,   43, 9715,   12,    2,    2,    2,    2,    2])\n",
      "\t(<bos> ca not wait to talk again . thank you for being my friend , jovannie . <pad> <pad> <pad> <pad> <pad>)\n",
      "Batch element 2: \n",
      "\ttensor([   0,   75,  229,   43,   44, 3794,   78, 5185,   12,    2,    2,    2,\n",
      "           2,    2,    2,    2,    2,    2,    2,    2,    2,    2])\n",
      "\t(<bos> not really , just gross and bloody . <pad> <pad> <pad> <pad> <pad> <pad> <pad> <pad> <pad> <pad> <pad> <pad> <pad>)\n"
     ]
    }
   ],
   "source": [
    "inp, target = next(dataloaders['train'].__iter__())\n",
    "\n",
    "print(\"Batch size %s\" % str(inp.shape))\n",
    "print(\"Batch element 1: \\n\\t%s\\n\\t(%s)\" %\n",
    "      (inp.data[0], ' '.join(dictionary.decode_idx_seq(inp.data[0]))))\n",
    "print(\"Batch element 2: \\n\\t%s\\n\\t(%s)\" %\n",
    "      (inp.data[1], ' '.join(dictionary.decode_idx_seq(inp.data[1]))))"
   ]
  },
  {
   "cell_type": "markdown",
   "metadata": {},
   "source": [
    "### 3. Train the model\n",
    "\n",
    "#### Initializing model, criterion, and optimizer (similar to the feedforward model)"
   ]
  },
  {
   "cell_type": "code",
   "execution_count": 78,
   "metadata": {
    "colab": {},
    "colab_type": "code",
    "id": "zQB-RbIhbj_B"
   },
   "outputs": [],
   "source": [
    "import torch\n",
    "import torch.nn as nn\n",
    "import torch.optim as optim\n",
    "\n",
    "load_pretrained = True\n",
    "\n",
    "num_gpus = torch.cuda.device_count()\n",
    "if num_gpus > 0:\n",
    "    current_device = 'cuda'\n",
    "else:\n",
    "    current_device = 'cpu'\n",
    "\n",
    "if load_pretrained:\n",
    "    if not os.path.exists('personachat_rnn_lm.pt'):\n",
    "        raise EOFError('Download pretrained model!')\n",
    "    model_dict = torch.load(\n",
    "        'personachat_rnn_lm.pt',\n",
    "        map_location=torch.device(current_device)\n",
    "    )\n",
    "    \n",
    "    options = model_dict['options']\n",
    "    model = RNNLanguageModel(options).to(current_device)\n",
    "    model.load_state_dict(model_dict['model_dict'])\n",
    "    \n",
    "else:\n",
    "    embedding_size = 256\n",
    "    hidden_size = 512\n",
    "    num_layers = 3\n",
    "    rnn_dropout = 0.3\n",
    "\n",
    "    options = {\n",
    "        'num_embeddings': len(dictionary),\n",
    "        'embedding_dim': embedding_size,\n",
    "        'padding_idx': dictionary.get_id('<pad>'),\n",
    "        'input_size': embedding_size,\n",
    "        'hidden_size': hidden_size,\n",
    "        'num_layers': num_layers,\n",
    "        'rnn_dropout': rnn_dropout,\n",
    "    }\n",
    "    model = RNNLanguageModel(options).to(current_device)\n",
    "    \n",
    "\n",
    "criterion = nn.CrossEntropyLoss(\n",
    "    ignore_index=dictionary.get_id('<pad>'), \n",
    "    reduction='sum'\n",
    ")\n",
    "\n",
    "model_parameters = [p for p in model.parameters() if p.requires_grad]\n",
    "optimizer = optim.SGD(model_parameters, lr=0.001, momentum=0.999)"
   ]
  },
  {
   "cell_type": "code",
   "execution_count": 79,
   "metadata": {
    "colab": {
     "base_uri": "https://localhost:8080/",
     "height": 104
    },
    "colab_type": "code",
    "id": "qmMLIrhjbj_D",
    "outputId": "88d88e38-f723-4946-dde9-0c8a8834e746"
   },
   "outputs": [
    {
     "data": {
      "text/plain": [
       "RNNLanguageModel(\n",
       "  (lookup): Embedding(20089, 256, padding_idx=2)\n",
       "  (rnn): RNN(256, 512, num_layers=3, batch_first=True, dropout=0.3)\n",
       "  (projection): Linear(in_features=512, out_features=20089, bias=True)\n",
       ")"
      ]
     },
     "execution_count": 79,
     "metadata": {},
     "output_type": "execute_result"
    }
   ],
   "source": [
    "model"
   ]
  },
  {
   "cell_type": "markdown",
   "metadata": {
    "colab": {},
    "colab_type": "code",
    "id": "qwBqO3z7bj_L"
   },
   "source": [
    "#### Training loop (same as the feedforward model)"
   ]
  },
  {
   "cell_type": "code",
   "execution_count": 92,
   "metadata": {
    "colab": {
     "base_uri": "https://localhost:8080/",
     "height": 34
    },
    "colab_type": "code",
    "id": "Fw28_6qXbj_M",
    "outputId": "bbfb150f-55d0-4d46-c715-7430d7204f17"
   },
   "outputs": [],
   "source": [
    "plot_cache = []\n",
    "\n",
    "if not load_pretrained:\n",
    "    for epoch_number in range(100):\n",
    "        avg_loss = 0\n",
    "        model.train()\n",
    "\n",
    "        train_loss_cache = 0\n",
    "        train_non_pad_tokens_cache = 0\n",
    "\n",
    "        for i, (inp, target) in enumerate(persona_loaders['train']):\n",
    "            optimizer.zero_grad()\n",
    "            inp = inp.to(current_device)\n",
    "            target = target.to(current_device)\n",
    "            logits = model(inp)\n",
    "            print(logits)\n",
    "            loss = criterion(logits.view(-1, logits.size(-1)), target.view(-1))\n",
    "            train_loss_cache += loss.item()  # still sum here\n",
    "\n",
    "            non_pad_tokens = target.view(-1).ne(persona_dict.get_id('<pad>')).sum().item()            \n",
    "            train_non_pad_tokens_cache += non_pad_tokens\n",
    "\n",
    "            loss /= non_pad_tokens \n",
    "\n",
    "            loss.backward()\n",
    "            optimizer.step()\n",
    "\n",
    "            if i % 100 == 0:\n",
    "                avg_loss = train_loss_cache / train_non_pad_tokens_cache\n",
    "                print('Step {} avg train loss = {:.{prec}f}'.format(i, avg_loss, prec=4))\n",
    "                train_log_cache = []\n",
    "\n",
    "        valid_loss_cache = 0\n",
    "        valid_non_pad_tokens_cache = 0\n",
    "\n",
    "        model.eval()\n",
    "        with torch.no_grad():\n",
    "            for i, (inp, target) in enumerate(persona_loaders['valid']):\n",
    "                inp = inp.to(current_device)\n",
    "                target = target.to(current_device)\n",
    "                logits = model(inp)\n",
    "\n",
    "                loss = criterion(logits.view(-1, logits.size(-1)), target.view(-1))\n",
    "                valid_loss_cache += loss.item()  # still sum here\n",
    "                non_pad_tokens = target.view(-1).ne(persona_dict.get_id('<pad>')).sum().item()\n",
    "\n",
    "                valid_non_pad_tokens_cache += non_pad_tokens\n",
    "\n",
    "            avg_val_loss = valid_loss_cache / valid_non_pad_tokens_cache\n",
    "\n",
    "            print('Validation loss after {} epoch = {:.{prec}f}'.format(epoch_number, avg_val_loss, prec=4))\n",
    "\n",
    "        plot_cache.append((avg_loss, avg_val_loss))\n"
   ]
  },
  {
   "cell_type": "code",
   "execution_count": 93,
   "metadata": {
    "colab": {},
    "colab_type": "code",
    "id": "KAV_hzMvbj_O"
   },
   "outputs": [],
   "source": [
    "if load_pretrained:\n",
    "    plot_cache = model_dict['loss_cache']"
   ]
  },
  {
   "cell_type": "markdown",
   "metadata": {},
   "source": [
    "### 4. Evaluation"
   ]
  },
  {
   "cell_type": "code",
   "execution_count": 94,
   "metadata": {
    "colab": {
     "base_uri": "https://localhost:8080/",
     "height": 281
    },
    "colab_type": "code",
    "id": "fhTtmqBfufyE",
    "outputId": "41019bb9-79c9-440f-a6d7-ecc5817769db"
   },
   "outputs": [
    {
     "data": {
      "image/png": "[encoded data removed]",
      "text/plain": [
       "<Figure size 432x288 with 1 Axes>"
      ]
     },
     "metadata": {
      "needs_background": "light"
     },
     "output_type": "display_data"
    }
   ],
   "source": [
    "import matplotlib.pyplot as plt\n",
    "import numpy\n",
    "\n",
    "epochs = numpy.array(list(range(len(plot_cache))))\n",
    "plt.plot(epochs, [i[0] for i in plot_cache], label='Train loss')\n",
    "plt.plot(epochs, [i[1] for i in plot_cache], label='Valid loss')\n",
    "\n",
    "plt.legend()\n",
    "plt.title('Loss curves')\n",
    "plt.show()"
   ]
  },
  {
   "cell_type": "code",
   "execution_count": 95,
   "metadata": {
    "colab": {
     "base_uri": "https://localhost:8080/",
     "height": 281
    },
    "colab_type": "code",
    "id": "R_A4w1QFufyN",
    "outputId": "23fe62f5-96e3-4893-b4b0-72cd63d4ccd6"
   },
   "outputs": [
    {
     "data": {
      "image/png": "[encoded data removed]",
      "text/plain": [
       "<Figure size 432x288 with 1 Axes>"
      ]
     },
     "metadata": {
      "needs_background": "light"
     },
     "output_type": "display_data"
    }
   ],
   "source": [
    "import matplotlib.pyplot as plt\n",
    "import numpy\n",
    "\n",
    "epochs = numpy.array(list(range(len(plot_cache))))\n",
    "plt.plot(epochs, [2**(i[0]/numpy.log(2)) for i in plot_cache], label='Train ppl')\n",
    "plt.plot(epochs, [2**(i[1]/numpy.log(2)) for i in plot_cache], label='Valid ppl')\n",
    "\n",
    "plt.legend()\n",
    "plt.title('PPL curves')\n",
    "plt.show()"
   ]
  },
  {
   "cell_type": "markdown",
   "metadata": {
    "colab_type": "text",
    "id": "zAvP_FXgbj_W"
   },
   "source": [
    "### Conditional probability queries\n",
    "\n",
    "We can query different probabilities:\n",
    "\n",
    "$\\large p(\\underbrace{x_t}_{\\text{token}}|\\underbrace{x_{<t}}_{\\text{prefix}})$"
   ]
  },
  {
   "cell_type": "code",
   "execution_count": 96,
   "metadata": {
    "colab": {
     "base_uri": "https://localhost:8080/",
     "height": 419
    },
    "colab_type": "code",
    "id": "TMG0r9zwbj_X",
    "outputId": "95a284e7-3913-46ca-e43f-3505dacb6555"
   },
   "outputs": [
    {
     "ename": "TypeError",
     "evalue": "tuple indices must be integers or slices, not tuple",
     "output_type": "error",
     "traceback": [
      "\u001b[0;31m---------------------------------------------------------------------------\u001b[0m",
      "\u001b[0;31mTypeError\u001b[0m                                 Traceback (most recent call last)",
      "\u001b[0;32m<ipython-input-96-7584e57d2167>\u001b[0m in \u001b[0;36m<module>\u001b[0;34m\u001b[0m\n\u001b[1;32m     16\u001b[0m \u001b[0;34m\u001b[0m\u001b[0m\n\u001b[1;32m     17\u001b[0m \u001b[0;32mfor\u001b[0m \u001b[0mw\u001b[0m \u001b[0;32min\u001b[0m \u001b[0;34m[\u001b[0m\u001b[0;34m'dog'\u001b[0m\u001b[0;34m,\u001b[0m \u001b[0;34m'zebra'\u001b[0m\u001b[0;34m,\u001b[0m \u001b[0;34m'donut'\u001b[0m\u001b[0;34m,\u001b[0m \u001b[0;34m'velociraptor'\u001b[0m\u001b[0;34m]\u001b[0m\u001b[0;34m:\u001b[0m\u001b[0;34m\u001b[0m\u001b[0;34m\u001b[0m\u001b[0m\n\u001b[0;32m---> 18\u001b[0;31m     \u001b[0mprob\u001b[0m \u001b[0;34m=\u001b[0m \u001b[0mnext_token_probabilities\u001b[0m\u001b[0;34m(\u001b[0m\u001b[0mprefix\u001b[0m\u001b[0;34m,\u001b[0m \u001b[0mw\u001b[0m\u001b[0;34m)\u001b[0m\u001b[0;34m\u001b[0m\u001b[0;34m\u001b[0m\u001b[0m\n\u001b[0m\u001b[1;32m     19\u001b[0m     \u001b[0mprint\u001b[0m\u001b[0;34m(\u001b[0m\u001b[0;34m'p( %s  | %s )\\t= %.3E'\u001b[0m \u001b[0;34m%\u001b[0m \u001b[0;34m(\u001b[0m\u001b[0mw\u001b[0m\u001b[0;34m,\u001b[0m \u001b[0mprefix\u001b[0m\u001b[0;34m,\u001b[0m \u001b[0mprob\u001b[0m\u001b[0;34m)\u001b[0m\u001b[0;34m)\u001b[0m\u001b[0;34m\u001b[0m\u001b[0;34m\u001b[0m\u001b[0m\n\u001b[1;32m     20\u001b[0m \u001b[0;34m\u001b[0m\u001b[0m\n",
      "\u001b[0;32m<ipython-input-96-7584e57d2167>\u001b[0m in \u001b[0;36mnext_token_probabilities\u001b[0;34m(prefix, token)\u001b[0m\n\u001b[1;32m     10\u001b[0m \u001b[0;34m\u001b[0m\u001b[0m\n\u001b[1;32m     11\u001b[0m     \u001b[0mtoken_id\u001b[0m \u001b[0;34m=\u001b[0m \u001b[0mdictionary\u001b[0m\u001b[0;34m.\u001b[0m\u001b[0mget_id\u001b[0m\u001b[0;34m(\u001b[0m\u001b[0mtoken\u001b[0m\u001b[0;34m)\u001b[0m\u001b[0;34m\u001b[0m\u001b[0;34m\u001b[0m\u001b[0m\n\u001b[0;32m---> 12\u001b[0;31m     \u001b[0mp_next_token\u001b[0m \u001b[0;34m=\u001b[0m \u001b[0mtorch\u001b[0m\u001b[0;34m.\u001b[0m\u001b[0msoftmax\u001b[0m\u001b[0;34m(\u001b[0m\u001b[0mlogits\u001b[0m\u001b[0;34m[\u001b[0m\u001b[0;36m0\u001b[0m\u001b[0;34m,\u001b[0m \u001b[0;34m-\u001b[0m\u001b[0;36m1\u001b[0m\u001b[0;34m]\u001b[0m\u001b[0;34m,\u001b[0m \u001b[0mdim\u001b[0m\u001b[0;34m=\u001b[0m\u001b[0;34m-\u001b[0m\u001b[0;36m1\u001b[0m\u001b[0;34m)\u001b[0m\u001b[0;34m\u001b[0m\u001b[0;34m\u001b[0m\u001b[0m\n\u001b[0m\u001b[1;32m     13\u001b[0m     \u001b[0;32mreturn\u001b[0m \u001b[0mp_next_token\u001b[0m\u001b[0;34m[\u001b[0m\u001b[0mtoken_id\u001b[0m\u001b[0;34m]\u001b[0m\u001b[0;34m\u001b[0m\u001b[0;34m\u001b[0m\u001b[0m\n\u001b[1;32m     14\u001b[0m \u001b[0;34m\u001b[0m\u001b[0m\n",
      "\u001b[0;31mTypeError\u001b[0m: tuple indices must be integers or slices, not tuple"
     ]
    }
   ],
   "source": [
    "import torch\n",
    "\n",
    "def next_token_probabilities(prefix, token):\n",
    "    inp = dictionary.encode_token_seq(prefix.split(' '))\n",
    "    with torch.no_grad():\n",
    "        model.eval()\n",
    "        logits = model(\n",
    "            torch.tensor([inp], dtype=torch.long).to(current_device)\n",
    "        )\n",
    "        \n",
    "    token_id = dictionary.get_id(token)\n",
    "    p_next_token = torch.softmax(logits[0, -1], dim=-1)\n",
    "    return p_next_token[token_id]\n",
    "\n",
    "prefix = '<bos> i have a'\n",
    "\n",
    "for w in ['dog', 'zebra', 'donut', 'velociraptor']:\n",
    "    prob = next_token_probabilities(prefix, w)\n",
    "    print('p( %s  | %s )\\t= %.3E' % (w, prefix, prob))\n",
    "    "
   ]
  },
  {
   "cell_type": "markdown",
   "metadata": {},
   "source": [
    "\n",
    "\n",
    "And sort by the highest probability next-tokens:\n",
    "\n",
    "$\\large \\texttt{sort}(p(\\cdot|\\underbrace{x_{<t}}_{\\text{prefix}}))$"
   ]
  },
  {
   "cell_type": "code",
   "execution_count": 91,
   "metadata": {
    "colab": {
     "base_uri": "https://localhost:8080/",
     "height": 404
    },
    "colab_type": "code",
    "id": "l4zVv--owi3d",
    "outputId": "2c64752d-d913-4dfa-814d-ba7042982462"
   },
   "outputs": [
    {
     "ename": "TypeError",
     "evalue": "tuple indices must be integers or slices, not tuple",
     "output_type": "error",
     "traceback": [
      "\u001b[0;31m---------------------------------------------------------------------------\u001b[0m",
      "\u001b[0;31mTypeError\u001b[0m                                 Traceback (most recent call last)",
      "\u001b[0;32m<ipython-input-91-ceed35e312b8>\u001b[0m in \u001b[0;36m<module>\u001b[0;34m\u001b[0m\n\u001b[1;32m     17\u001b[0m         )\n\u001b[1;32m     18\u001b[0m \u001b[0;34m\u001b[0m\u001b[0m\n\u001b[0;32m---> 19\u001b[0;31m \u001b[0mget_top_token_given_prefix\u001b[0m\u001b[0;34m(\u001b[0m\u001b[0;34m'<bos> the weather is'\u001b[0m\u001b[0;34m)\u001b[0m\u001b[0;34m\u001b[0m\u001b[0;34m\u001b[0m\u001b[0m\n\u001b[0m",
      "\u001b[0;32m<ipython-input-91-ceed35e312b8>\u001b[0m in \u001b[0;36mget_top_token_given_prefix\u001b[0;34m(prefix, top)\u001b[0m\n\u001b[1;32m      7\u001b[0m         )\n\u001b[1;32m      8\u001b[0m \u001b[0;34m\u001b[0m\u001b[0m\n\u001b[0;32m----> 9\u001b[0;31m     \u001b[0mp_next_token\u001b[0m \u001b[0;34m=\u001b[0m \u001b[0mtorch\u001b[0m\u001b[0;34m.\u001b[0m\u001b[0msoftmax\u001b[0m\u001b[0;34m(\u001b[0m\u001b[0mlogits\u001b[0m\u001b[0;34m[\u001b[0m\u001b[0;36m0\u001b[0m\u001b[0;34m,\u001b[0m \u001b[0;34m-\u001b[0m\u001b[0;36m1\u001b[0m\u001b[0;34m]\u001b[0m\u001b[0;34m,\u001b[0m \u001b[0mdim\u001b[0m\u001b[0;34m=\u001b[0m\u001b[0;34m-\u001b[0m\u001b[0;36m1\u001b[0m\u001b[0;34m)\u001b[0m\u001b[0;34m\u001b[0m\u001b[0;34m\u001b[0m\u001b[0m\n\u001b[0m\u001b[1;32m     10\u001b[0m     \u001b[0msorted_probs\u001b[0m\u001b[0;34m,\u001b[0m \u001b[0msorted_token_ids\u001b[0m \u001b[0;34m=\u001b[0m \u001b[0mtorch\u001b[0m\u001b[0;34m.\u001b[0m\u001b[0mtopk\u001b[0m\u001b[0;34m(\u001b[0m\u001b[0mp_next_token\u001b[0m\u001b[0;34m,\u001b[0m \u001b[0mtop\u001b[0m\u001b[0;34m)\u001b[0m\u001b[0;34m\u001b[0m\u001b[0;34m\u001b[0m\u001b[0m\n\u001b[1;32m     11\u001b[0m \u001b[0;34m\u001b[0m\u001b[0m\n",
      "\u001b[0;31mTypeError\u001b[0m: tuple indices must be integers or slices, not tuple"
     ]
    }
   ],
   "source": [
    "def get_top_token_given_prefix(prefix, top=10):\n",
    "    inp = dictionary.encode_token_seq(prefix.split(' '))\n",
    "    with torch.no_grad():\n",
    "        model.eval()\n",
    "        logits = model(\n",
    "            torch.tensor([inp], dtype=torch.long).to(current_device)\n",
    "        )\n",
    "        \n",
    "    p_next_token = torch.softmax(logits[0, -1], dim=-1)\n",
    "    sorted_probs, sorted_token_ids = torch.topk(p_next_token, top)\n",
    "\n",
    "    for i in range(sorted_token_ids.size(0)):\n",
    "        print('p( %s  | %s )\\t= %.5f' % \n",
    "              (dictionary.decode_idx_seq([sorted_token_ids[i]])[0], \n",
    "               prefix, \n",
    "               sorted_probs[i])\n",
    "        )\n",
    "\n",
    "get_top_token_given_prefix('<bos> the weather is')"
   ]
  },
  {
   "cell_type": "markdown",
   "metadata": {},
   "source": [
    "### Generation (Sampling)\n",
    "\n",
    "Finally, we can generate sentences using the model's conditional distribution:\n",
    "\n",
    "            context = [<bos>]\n",
    "            until <eos> is generated:\n",
    "                wt ~ p(wt | context)\n",
    "                context += [wt]\n",
    "                \n",
    "                \n",
    "Here, the `~` symbol stands for sampling from a categorical distribution. "
   ]
  },
  {
   "cell_type": "code",
   "execution_count": 86,
   "metadata": {},
   "outputs": [
    {
     "name": "stdout",
     "output_type": "stream",
     "text": [
      "Temperature 1.00\n",
      "<bos> i have a broken for a living . you ? <eos>\n",
      "<bos> i have a very choice pet fit . what about you ? <eos>\n",
      "<bos> i have a garden just loved my dogs and i am bummed . <eos>\n",
      "<bos> i have a condition , husband runs , doctors produce of band . <eos>\n",
      "<bos> i have a totally bucks . i love all music . <eos>\n",
      "\n",
      "Temperature 0.50\n",
      "<bos> i have a dog . <eos>\n",
      "<bos> i have a dog named toto . <eos>\n",
      "<bos> i have a dog named toto . <eos>\n",
      "<bos> i have a cat but i do not have any . <eos>\n",
      "<bos> i have a great beard , i like to cook . <eos>\n",
      "\n",
      "Temperature 0.10\n",
      "<bos> i have a cat named cow . <eos>\n",
      "<bos> i have a dog named toto . <eos>\n",
      "<bos> i have a cat named cow . <eos>\n",
      "<bos> i have a cat named cow . <eos>\n",
      "<bos> i have a cat named cow . <eos>\n",
      "\n"
     ]
    }
   ],
   "source": [
    "import torch\n",
    "\n",
    "def sample(model, prefix, num_samples, temperature=1.0, max_len=50):\n",
    "    inp = torch.tensor([\n",
    "        dictionary.encode_token_seq(prefix.split(' '))\n",
    "    ], dtype=torch.long).to(current_device).repeat([num_samples, 1])\n",
    "\n",
    "    sampled = [prefix.split(' ') for _ in range(num_samples)]\n",
    "    done = torch.tensor([False for _ in range(num_samples)])\n",
    "    hidden = None\n",
    "    \n",
    "    with torch.no_grad():\n",
    "        model.eval()\n",
    "        for t in range(max_len):\n",
    "            logits, hidden = step(model, inp, hidden)\n",
    "            logits_ = (logits[:, -1, :] / temperature)\n",
    "            inp = logits_.softmax(-1).multinomial(1)            \n",
    "            for i in range(num_samples):\n",
    "                tok_ti = dictionary.get_token(inp[i, 0].item())\n",
    "                if tok_ti == '<eos>' and not done[i]:\n",
    "                    done[i] = True\n",
    "                    sampled[i].append(tok_ti)\n",
    "                elif not done[i]:\n",
    "                    sampled[i].append(tok_ti)\n",
    "                else:\n",
    "                    pass\n",
    "            if done.sum() == num_samples:\n",
    "                break\n",
    "        \n",
    "    return sampled\n",
    "\n",
    "def step(rnn, token_ids, hidden):\n",
    "    embeddings = rnn.lookup(token_ids)\n",
    "    output, hidden = rnn.rnn(embeddings, hidden)\n",
    "    logits = rnn.projection(output) \n",
    "    return logits, hidden\n",
    "\n",
    "\n",
    "prefix = '<bos> i have a'\n",
    "\n",
    "for temp in [1.0, 0.5, 0.1]:\n",
    "    print(\"Temperature %.2f\" % temp)\n",
    "    samples = sample(model, prefix, 5, temperature=temp)\n",
    "    for s in samples:\n",
    "        print(' '.join(s))\n",
    "    print()"
   ]
  },
  {
   "cell_type": "code",
   "execution_count": 87,
   "metadata": {
    "colab": {},
    "colab_type": "code",
    "id": "uzGqlrKhbj_g"
   },
   "outputs": [],
   "source": [
    "# Saving the model\n",
    "if False:\n",
    "    torch.save({\n",
    "        'options': options,\n",
    "        'loss_cache': plot_cache,\n",
    "        'model_dict': model.state_dict()\n",
    "    }, './static_files/persona_rnn_lm.pt')"
   ]
  },
  {
   "cell_type": "raw",
   "metadata": {},
   "source": []
  },
  {
   "cell_type": "markdown",
   "metadata": {},
   "source": [
    "## Large-scale Language Modeling: GPT-2\n",
    "\n",
    "The language model above is relatively small in terms of the number of parameters, and is trained on a (very) small dataset.\n",
    "\n",
    "Recently, researchers have trained **large-scale language models** on **large amounts of data**, resulting in improved language modeling and generation ability. \n",
    "\n",
    "A representative example is **GPT-2** [[paper](https://cdn.openai.com/better-language-models/language_models_are_unsupervised_multitask_learners.pdf)], [[blog](https://openai.com/blog/better-language-models/)]. We won't currently discuss the details of this model, but we can easily **use a pre-trained version to generate text**:"
   ]
  },
  {
   "cell_type": "code",
   "execution_count": 88,
   "metadata": {},
   "outputs": [
    {
     "name": "stdout",
     "output_type": "stream",
     "text": [
      "Collecting transformers\n",
      "\u001b[?25l  Downloading https://files.pythonhosted.org/packages/a3/78/92cedda05552398352ed9784908b834ee32a0bd071a9b32de287327370b7/transformers-2.8.0-py3-none-any.whl (563kB)\n",
      "\u001b[K    100% |████████████████████████████████| 573kB 1.7MB/s \n",
      "\u001b[?25hCollecting sentencepiece (from transformers)\n",
      "\u001b[?25l  Downloading https://files.pythonhosted.org/packages/11/e0/1264990c559fb945cfb6664742001608e1ed8359eeec6722830ae085062b/sentencepiece-0.1.85-cp37-cp37m-manylinux1_x86_64.whl (1.0MB)\n",
      "\u001b[K    100% |████████████████████████████████| 1.0MB 2.4MB/s \n",
      "\u001b[?25hCollecting tokenizers==0.5.2 (from transformers)\n",
      "\u001b[?25l  Downloading https://files.pythonhosted.org/packages/d6/e3/5e49e9a83fb605aaa34a1c1173e607302fecae529428c28696fb18f1c2c9/tokenizers-0.5.2-cp37-cp37m-manylinux1_x86_64.whl (5.6MB)\n",
      "\u001b[K    100% |████████████████████████████████| 5.6MB 2.8MB/s \n",
      "\u001b[?25hRequirement already satisfied: regex!=2019.12.17 in /home/aimsgh/.local/lib/python3.7/site-packages (from transformers) (2020.2.20)\n",
      "Requirement already satisfied: tqdm>=4.27 in /home/aimsgh/.local/lib/python3.7/site-packages (from transformers) (4.43.0)\n",
      "Requirement already satisfied: filelock in /home/aimsgh/anaconda3/lib/python3.7/site-packages (from transformers) (3.0.10)\n",
      "Collecting boto3 (from transformers)\n",
      "\u001b[?25l  Downloading https://files.pythonhosted.org/packages/27/87/de75e5a24584d82cca60b86f95d06e56412ed9e23807dcf23896f206f58e/boto3-1.12.39-py2.py3-none-any.whl (128kB)\n",
      "\u001b[K    100% |████████████████████████████████| 133kB 11.1MB/s \n",
      "\u001b[?25hRequirement already satisfied: numpy in /home/aimsgh/anaconda3/lib/python3.7/site-packages (from transformers) (1.16.2)\n",
      "Requirement already satisfied: requests in /home/aimsgh/anaconda3/lib/python3.7/site-packages (from transformers) (2.21.0)\n",
      "Collecting sacremoses (from transformers)\n",
      "\u001b[?25l  Downloading https://files.pythonhosted.org/packages/99/50/93509f906a40bffd7d175f97fd75ea328ad9bd91f48f59c4bd084c94a25e/sacremoses-0.0.41.tar.gz (883kB)\n",
      "\u001b[K    100% |████████████████████████████████| 890kB 3.4MB/s \n",
      "\u001b[?25hCollecting s3transfer<0.4.0,>=0.3.0 (from boto3->transformers)\n",
      "\u001b[?25l  Downloading https://files.pythonhosted.org/packages/69/79/e6afb3d8b0b4e96cefbdc690f741d7dd24547ff1f94240c997a26fa908d3/s3transfer-0.3.3-py2.py3-none-any.whl (69kB)\n",
      "\u001b[K    100% |████████████████████████████████| 71kB 14.5MB/s \n",
      "\u001b[?25hCollecting botocore<1.16.0,>=1.15.39 (from boto3->transformers)\n",
      "\u001b[?25l  Downloading https://files.pythonhosted.org/packages/dc/fb/f78a0e09965c156fea9160713705af688ec4f18af4249b3095949c930f77/botocore-1.15.39-py2.py3-none-any.whl (6.1MB)\n",
      "\u001b[K    100% |████████████████████████████████| 6.1MB 2.2MB/s \n",
      "\u001b[?25hCollecting jmespath<1.0.0,>=0.7.1 (from boto3->transformers)\n",
      "  Downloading https://files.pythonhosted.org/packages/a3/43/1e939e1fcd87b827fe192d0c9fc25b48c5b3368902bfb913de7754b0dc03/jmespath-0.9.5-py2.py3-none-any.whl\n",
      "Requirement already satisfied: idna<2.9,>=2.5 in /home/aimsgh/anaconda3/lib/python3.7/site-packages (from requests->transformers) (2.8)\n",
      "Requirement already satisfied: urllib3<1.25,>=1.21.1 in /home/aimsgh/anaconda3/lib/python3.7/site-packages (from requests->transformers) (1.24.1)\n",
      "Requirement already satisfied: certifi>=2017.4.17 in /home/aimsgh/anaconda3/lib/python3.7/site-packages (from requests->transformers) (2019.3.9)\n",
      "Requirement already satisfied: chardet<3.1.0,>=3.0.2 in /home/aimsgh/anaconda3/lib/python3.7/site-packages (from requests->transformers) (3.0.4)\n",
      "Requirement already satisfied: six in /home/aimsgh/anaconda3/lib/python3.7/site-packages (from sacremoses->transformers) (1.12.0)\n",
      "Requirement already satisfied: click in /home/aimsgh/anaconda3/lib/python3.7/site-packages (from sacremoses->transformers) (7.0)\n",
      "Collecting joblib (from sacremoses->transformers)\n",
      "\u001b[?25l  Downloading https://files.pythonhosted.org/packages/28/5c/cf6a2b65a321c4a209efcdf64c2689efae2cb62661f8f6f4bb28547cf1bf/joblib-0.14.1-py2.py3-none-any.whl (294kB)\n",
      "\u001b[K    100% |████████████████████████████████| 296kB 7.0MB/s \n",
      "\u001b[?25hRequirement already satisfied: docutils<0.16,>=0.10 in /home/aimsgh/anaconda3/lib/python3.7/site-packages (from botocore<1.16.0,>=1.15.39->boto3->transformers) (0.14)\n",
      "Requirement already satisfied: python-dateutil<3.0.0,>=2.1 in /home/aimsgh/anaconda3/lib/python3.7/site-packages (from botocore<1.16.0,>=1.15.39->boto3->transformers) (2.8.0)\n",
      "Building wheels for collected packages: sacremoses\n",
      "  Building wheel for sacremoses (setup.py) ... \u001b[?25ldone\n",
      "\u001b[?25h  Stored in directory: /home/aimsgh/.cache/pip/wheels/22/5a/d4/b020a81249de7dc63758a34222feaa668dbe8ebfe9170cc9b1\n",
      "Successfully built sacremoses\n",
      "Installing collected packages: sentencepiece, tokenizers, jmespath, botocore, s3transfer, boto3, joblib, sacremoses, transformers\n",
      "Successfully installed boto3-1.12.39 botocore-1.15.39 jmespath-0.9.5 joblib-0.14.1 s3transfer-0.3.3 sacremoses-0.0.41 sentencepiece-0.1.85 tokenizers-0.5.2 transformers-2.8.0\n"
     ]
    }
   ],
   "source": [
    "!pip install transformers"
   ]
  },
  {
   "cell_type": "markdown",
   "metadata": {},
   "source": [
    "#### Load the model and tokenizer"
   ]
  },
  {
   "cell_type": "code",
   "execution_count": 89,
   "metadata": {},
   "outputs": [
    {
     "data": {
      "application/vnd.jupyter.widget-view+json": {
       "model_id": "797f7738e591479280e1fc37b31f2dc8",
       "version_major": 2,
       "version_minor": 0
      },
      "text/plain": [
       "HBox(children=(FloatProgress(value=0.0, description='Downloading', max=1042301.0, style=ProgressStyle(descript…"
      ]
     },
     "metadata": {},
     "output_type": "display_data"
    },
    {
     "name": "stdout",
     "output_type": "stream",
     "text": [
      "\n"
     ]
    },
    {
     "data": {
      "application/vnd.jupyter.widget-view+json": {
       "model_id": "108b06d904044980bd475a8ad664ad5d",
       "version_major": 2,
       "version_minor": 0
      },
      "text/plain": [
       "HBox(children=(FloatProgress(value=0.0, description='Downloading', max=456318.0, style=ProgressStyle(descripti…"
      ]
     },
     "metadata": {},
     "output_type": "display_data"
    },
    {
     "name": "stdout",
     "output_type": "stream",
     "text": [
      "\n"
     ]
    },
    {
     "data": {
      "application/vnd.jupyter.widget-view+json": {
       "model_id": "f9c9d77b9c77465fb448224a750acfc2",
       "version_major": 2,
       "version_minor": 0
      },
      "text/plain": [
       "HBox(children=(FloatProgress(value=0.0, description='Downloading', max=224.0, style=ProgressStyle(description_…"
      ]
     },
     "metadata": {},
     "output_type": "display_data"
    },
    {
     "name": "stdout",
     "output_type": "stream",
     "text": [
      "\n"
     ]
    },
    {
     "data": {
      "application/vnd.jupyter.widget-view+json": {
       "model_id": "10ba5214605a4c528b0b7bd79863968a",
       "version_major": 2,
       "version_minor": 0
      },
      "text/plain": [
       "HBox(children=(FloatProgress(value=0.0, description='Downloading', max=548118077.0, style=ProgressStyle(descri…"
      ]
     },
     "metadata": {},
     "output_type": "display_data"
    },
    {
     "name": "stdout",
     "output_type": "stream",
     "text": [
      "\n"
     ]
    }
   ],
   "source": [
    "import torch\n",
    "from transformers import (\n",
    "    GPT2LMHeadModel,\n",
    "    GPT2Tokenizer\n",
    ")\n",
    "\n",
    "device = torch.device('cpu') if not torch.cuda.is_available() else torch.device('cuda:0')\n",
    "\n",
    "tokenizer = GPT2Tokenizer.from_pretrained(\"gpt2\")\n",
    "model = GPT2LMHeadModel.from_pretrained(\"gpt2\")\n",
    "model.to(device);"
   ]
  },
  {
   "cell_type": "markdown",
   "metadata": {},
   "source": [
    "#### Generate (Sampling)\n",
    "\n",
    "We'll talk about other ways to generate later in the course."
   ]
  },
  {
   "cell_type": "code",
   "execution_count": null,
   "metadata": {},
   "outputs": [],
   "source": [
    "prefix = 'My favorite food is'\n",
    "\n",
    "max_length = 100\n",
    "num_samples = 5\n",
    "\n",
    "inp = torch.tensor([tokenizer.encode(prefix)], device=device).repeat(num_samples, 1)\n",
    "\n",
    "out = model.generate(\n",
    "    input_ids=inp,\n",
    "    do_sample=True,\n",
    "    max_length=max_length\n",
    ")\n",
    "\n",
    "for i in range(num_samples):\n",
    "    sample = tokenizer.decode(out[i])\n",
    "    print(sample)\n",
    "    print('---------------------------------------------------')"
   ]
  },
  {
   "cell_type": "code",
   "execution_count": null,
   "metadata": {},
   "outputs": [],
   "source": []
  }
 ],
 "metadata": {
  "accelerator": "GPU",
  "colab": {
   "collapsed_sections": [],
   "name": "lab4_rnnlm.ipynb",
   "provenance": []
  },
  "kernelspec": {
   "display_name": "Python 3",
   "language": "python",
   "name": "python3"
  },
  "language_info": {
   "codemirror_mode": {
    "name": "ipython",
    "version": 3
   },
   "file_extension": ".py",
   "mimetype": "text/x-python",
   "name": "python",
   "nbconvert_exporter": "python",
   "pygments_lexer": "ipython3",
   "version": "3.7.3"
  }
 },
 "nbformat": 4,
 "nbformat_minor": 4
}
