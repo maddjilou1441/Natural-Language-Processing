{
 "cells": [
  {
   "cell_type": "code",
   "execution_count": 15,
   "metadata": {},
   "outputs": [],
   "source": [
    "import io, sys, math, re\n",
    "from collections import defaultdict\n",
    "import numpy as np"
   ]
  },
  {
   "cell_type": "code",
   "execution_count": 16,
   "metadata": {},
   "outputs": [],
   "source": [
    "# dataloader\n",
    "\n",
    "def load_data(filename):\n",
    "    fin = io.open(filename, 'r', encoding='utf-8')\n",
    "    data = []\n",
    "    vocab = defaultdict(lambda:0)\n",
    "    for line in fin:\n",
    "        sentence = line.split()\n",
    "        data.append(sentence)\n",
    "        for word in sentence:\n",
    "            vocab[word] += 1\n",
    "    return data, vocab"
   ]
  },
  {
   "cell_type": "code",
   "execution_count": 17,
   "metadata": {},
   "outputs": [],
   "source": [
    "def remove_rare_words(data, vocab, mincount):\n",
    "    ## FILL CODE\n",
    "    data_with_unk = []\n",
    "    for i in range(len(data)):\n",
    "        sentence = data[i]\n",
    "        for i in range(len(sentence)):\n",
    "            word = sentence[i]\n",
    "            if word not in vocab or vocab[word] < mincount:\n",
    "                sentence[i] = '<unk>'\n",
    "        \n",
    "        data_with_unk.append(sentence)\n",
    "    \n",
    "    # replace words in data that are not in the vocab \n",
    "    # or have a count that is below mincount\n",
    "    return data_with_unk"
   ]
  },
  {
   "cell_type": "code",
   "execution_count": 18,
   "metadata": {},
   "outputs": [
    {
     "name": "stdout",
     "output_type": "stream",
     "text": [
      "load validation set\n"
     ]
    }
   ],
   "source": [
    "# LOAD DATA\n",
    "\n",
    "train_data, vocab = load_data(\"train2.txt\")\n",
    "## FILL CODE\n",
    "data_with_unk = remove_rare_words(train_data, vocab, 2)\n",
    "# If you have a Out of Vocabulary error (OOV) \n",
    "# call the function \"remove_rare_words\" to replace \n",
    "# rare words with <unk> in the dataset\n",
    "\n",
    "print(\"load validation set\")\n",
    "valid_data, _ = load_data(\"valid2.txt\")\n",
    "## FILL CODE \n",
    "data_with_unk = remove_rare_words(valid_data, vocab , 2)\n",
    "# If you have a Out of Vocabulary error (OOV) \n",
    "# call the function \"remove_rare_words\" to replace \n",
    "# OOV with <unk> in the dataset"
   ]
  },
  {
   "cell_type": "code",
   "execution_count": 19,
   "metadata": {},
   "outputs": [],
   "source": [
    "# Function to build a bigram model\n",
    "\n",
    "def build_bigram(data):\n",
    "    unigram_counts = defaultdict(lambda:0)\n",
    "    bigram_counts  = defaultdict(lambda: defaultdict(lambda: 0.0))\n",
    "    total_number_words = 0\n",
    "\n",
    "    ## FILL CODE\n",
    "    \n",
    "    for sentence in data:\n",
    "        k = len(sentence)\n",
    "        for i in range(k - 1):\n",
    "            word_1, word_2 = sentence[i], sentence[i+1]\n",
    "            total_number_words += 1\n",
    "            unigram_counts[word_1] += 1\n",
    "            bigram_counts[word_1][word_2] += 1\n",
    "            \n",
    "        unigram_counts[sentence[k - 1]] += 1\n",
    "                      \n",
    "    \n",
    "    # Store the unigram and bigram counts as well as the total \n",
    "    # number of words in the dataset\n",
    "\n",
    "    unigram_prob = defaultdict(lambda:0)\n",
    "    bigram_prob = defaultdict(lambda: defaultdict(lambda: 0.0))\n",
    "\n",
    "    ## FILL CODE\n",
    "    for sentence in data:\n",
    "        k = len(sentence)\n",
    "        for i in range(k - 1):\n",
    "            word_1, word_2 = sentence[i], sentence[i+1]\n",
    "            unigram_prob[word_1] = unigram_counts[word_1]/ total_number_words\n",
    "            bigram_prob[word_1][word_2] = bigram_counts[word_1][word_2] / unigram_counts[word_1]\n",
    "    # Build unigram and bigram probabilities from counts\n",
    "\n",
    "    return {'bigram': bigram_prob, 'unigram': unigram_prob}"
   ]
  },
  {
   "cell_type": "code",
   "execution_count": 50,
   "metadata": {},
   "outputs": [
    {
     "name": "stdout",
     "output_type": "stream",
     "text": [
      "build bigram model\n"
     ]
    }
   ],
   "source": [
    "# RUN TO BUILD BIGRAM MODEL\n",
    "\n",
    "print(\"build bigram model\")\n",
    "model = build_bigram(train_data)\n",
    "# model['bigram']"
   ]
  },
  {
   "cell_type": "code",
   "execution_count": 25,
   "metadata": {},
   "outputs": [],
   "source": [
    "def get_prob(model, w1, w2):\n",
    "#     assert model[\"unigram\"][w2] != 0, \"Out of Vocabulary word!\"\n",
    "    ## FILL CODE\n",
    "    if model['bigram'][w1][w2] != 0:\n",
    "        return model['bigram'][w1][w2]\n",
    "    else:\n",
    "        return model['unigram'][w2] * 0.4\n",
    "    # Should return the probability of the bigram (w1w2) if it exists\n",
    "    # Else it return the probility of unigram (w2) multiply by 0.4\n",
    "\n",
    "def perplexity(model, data):\n",
    "    ## FILL CODE\n",
    "    perp = 0.0\n",
    "    for sentence in data:\n",
    "        k = len(sentence)\n",
    "        prob = 1\n",
    "        for i in range(k - 1):\n",
    "            word_1, word_2 = sentence[i], sentence[i+1]\n",
    "            prob *= np.power(get_prob(model, word_1, word_2), -1/ len(sentence))\n",
    "        \n",
    "    perp = prob        \n",
    "    # follow the formula in the slides\n",
    "    # call the function get_prob to get P(w2 | w1)\n",
    "    return perp"
   ]
  },
  {
   "cell_type": "code",
   "execution_count": 26,
   "metadata": {},
   "outputs": [
    {
     "name": "stdout",
     "output_type": "stream",
     "text": [
      "The perplexity is 26.968678874155337\n"
     ]
    }
   ],
   "source": [
    "# COMPUTE PERPLEXITY ON VALIDATION SET\n",
    "\n",
    "print(\"The perplexity is\", perplexity(model, valid_data))"
   ]
  },
  {
   "cell_type": "code",
   "execution_count": 47,
   "metadata": {},
   "outputs": [],
   "source": [
    "def generate(model):\n",
    "    sentence = [\"<s>\"]\n",
    "    ## FILL CODE\n",
    "\n",
    "    i = 0    \n",
    "    while True:\n",
    "        x = list(model['bigram'][sentence[i]].keys())\n",
    "        y = list(model['bigram'][sentence[i]].values())\n",
    "        gener = np.random.choice(x, 1, p = y)\n",
    "#       print(gener)\n",
    "        sentence.append(gener[0])\n",
    "        i += 1\n",
    "        if gener[0] == '</s>':\n",
    "            break\n",
    "    \n",
    "    # generate a sentence. A sentence starts with a <s> and ends with a </s>\n",
    "    # Possiblly a use function is:\n",
    "    #   np.random.choice(x, 1, p = y)\n",
    "    # where x is a list of things to sample from\n",
    "    # and y is a list of probability (of the same length as x)\n",
    "    print(sentence[len(sentence) - 1])\n",
    "    return sentence"
   ]
  },
  {
   "cell_type": "code",
   "execution_count": 48,
   "metadata": {},
   "outputs": [
    {
     "name": "stdout",
     "output_type": "stream",
     "text": [
      "</s>\n",
      "Generated sentence:  ['<s>', 'my', 'mother', 'excused', 'from', 'french', 'food', 'to', 'pick', 'up', 'early', '.', '</s>']\n"
     ]
    }
   ],
   "source": [
    "# GENERATE A SENTENCE FROM THE MODEL\n",
    "\n",
    "print(\"Generated sentence: \",generate(model))"
   ]
  },
  {
   "cell_type": "code",
   "execution_count": null,
   "metadata": {},
   "outputs": [],
   "source": []
  }
 ],
 "metadata": {
  "kernelspec": {
   "display_name": "Python 3",
   "language": "python",
   "name": "python3"
  },
  "language_info": {
   "codemirror_mode": {
    "name": "ipython",
    "version": 3
   },
   "file_extension": ".py",
   "mimetype": "text/x-python",
   "name": "python",
   "nbconvert_exporter": "python",
   "pygments_lexer": "ipython3",
   "version": "3.7.3"
  }
 },
 "nbformat": 4,
 "nbformat_minor": 2
}
